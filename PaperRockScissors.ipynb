{
 "cells": [
  {
   "cell_type": "markdown",
   "metadata": {
    "id": "D9OjkmUsObVU"
   },
   "source": [
    "# Wymagania do projektu Papier-Kamień-Nożyce\n",
    "## 1. Napisz program, uczący się gry “papier, kamień, nożyce”. Jako algorytm uczący zastosuj łańcuch Markowa z macierzą przejść pomiędzy trzema stanami (Papier, Kamień, Nożyce). Nauka gry polega na korekcie macierzy przejść (prawdopodobieństwa warunkowe zmiany stanu),\n",
    "## 2. Wartość wypłaty: 1 w przypadku wygranej, −1 w przypadku przegranej i 0 w przypadku remisu,\n",
    "## 3. Przeprowadź ciąg kilkudziesięciu gier “kamień, papier, nożyce”. Sporząź wykres jak zmienia się stan kasy w każdym kroku gry."
   ]
  },
  {
   "cell_type": "markdown",
   "metadata": {},
   "source": [
    "# Paper-Rock-Scissors - Computer vs Human"
   ]
  },
  {
   "cell_type": "code",
   "execution_count": 69,
   "metadata": {
    "scrolled": true
   },
   "outputs": [
    {
     "name": "stdout",
     "output_type": "stream",
     "text": [
      "Your current score: 0\n",
      "[0.34, 0.33, 0.33]\n",
      "[0.33, 0.34, 0.33]\n",
      "[0.33, 0.33, 0.34]\n",
      "\n",
      "[0.34, 0.33, 0.33]\n",
      "playerPredictedChoice = P\n",
      "Your next choice [P(aper)/R(ock)/S(cissors)]: P\n",
      "computerChoice = S\n",
      "Computer's win\n",
      "Your current score: -1\n"
     ]
    }
   ],
   "source": [
    "import numpy\n",
    "\n",
    "score = 0\n",
    "\n",
    "# game loop\n",
    "print('Your current score: ' + str(score))\n",
    "\n",
    "options = ['P', 'R', 'S']\n",
    "probabilities = [[0.34, 0.33, 0.33], [0.33, 0.34, 0.33], [0.33, 0.33, 0.34]]\n",
    "probability = [0.33, 0.34, 0.33]\n",
    "lastPlayerChoice = options[0]\n",
    "\n",
    "for prob in probabilities:\n",
    "    print(prob)\n",
    "\n",
    "if lastPlayerChoice == options[0]:\n",
    "    probability = probabilities[0]\n",
    "elif lastPlayerChoice == options[1]:\n",
    "    probability = probabilities[1]\n",
    "else:\n",
    "    probability = probabilities[2]\n",
    "\n",
    "print()\n",
    "print(probability)\n",
    "\n",
    "playerPredictedChoice = numpy.random.choice(options, p = probability)\n",
    "print('playerPredictedChoice = ' + playerPredictedChoice)\n",
    "\n",
    "computerChoice = ''\n",
    "\n",
    "if playerPredictedChoice == 'S':\n",
    "    computerChoice = 'R'\n",
    "elif playerPredictedChoice == 'R':\n",
    "    computerChoice = 'P'\n",
    "else:\n",
    "    computerChoice = 'S'\n",
    "\n",
    "lastPlayerChoice = ''\n",
    "while(lastPlayerChoice != options[0] and lastPlayerChoice != options[1] and lastPlayerChoice != options[2]):\n",
    "    lastPlayerChoice = input('Your next choice [P(aper)/R(ock)/S(cissors)]: ')\n",
    "\n",
    "print('computerChoice = ' + computerChoice)\n",
    "\n",
    "if lastPlayerChoice == computerChoice:\n",
    "    print('Draw!')\n",
    "else:\n",
    "    if  lastPlayerChoice == 'S' and computerChoice == 'R' or \\\n",
    "        lastPlayerChoice == 'R' and computerChoice == 'P' or \\\n",
    "        lastPlayerChoice == 'P' and computerChoice == 'S':\n",
    "            print('Computer\\'s win')\n",
    "            score -= 1\n",
    "    else:\n",
    "        print('Player\\'s win')\n",
    "        score += 1\n",
    "\n",
    "print('Your current score: ' + str(score))"
   ]
  },
  {
   "cell_type": "code",
   "execution_count": null,
   "metadata": {},
   "outputs": [],
   "source": []
  }
 ],
 "metadata": {
  "colab": {
   "collapsed_sections": [],
   "name": "PaperRockScissors.ipynb",
   "provenance": [
    {
     "file_id": "1SGX-7ukw_ckvJwvouoe7uycBHGD_UGbL",
     "timestamp": 1637523169635
    }
   ]
  },
  "kernelspec": {
   "display_name": "Python 3",
   "language": "python",
   "name": "python3"
  },
  "language_info": {
   "codemirror_mode": {
    "name": "ipython",
    "version": 3
   },
   "file_extension": ".py",
   "mimetype": "text/x-python",
   "name": "python",
   "nbconvert_exporter": "python",
   "pygments_lexer": "ipython3",
   "version": "3.8.8"
  }
 },
 "nbformat": 4,
 "nbformat_minor": 1
}
