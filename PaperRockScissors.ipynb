{
 "cells": [
  {
   "cell_type": "markdown",
   "metadata": {
    "id": "D9OjkmUsObVU"
   },
   "source": [
    "# Wymagania do projektu Papier-Kamień-Nożyce\n",
    "## 1. Napisz program, uczący się gry “papier, kamień, nożyce”. Jako algorytm uczący zastosuj łańcuch Markowa z macierzą przejść pomiędzy trzema stanami (Papier, Kamień, Nożyce). Nauka gry polega na korekcie macierzy przejść (prawdopodobieństwa warunkowe zmiany stanu),\n",
    "## 2. Wartość wypłaty: 1 w przypadku wygranej, −1 w przypadku przegranej i 0 w przypadku remisu,\n",
    "## 3. Przeprowadź ciąg kilkudziesięciu gier “kamień, papier, nożyce”. Sporząź wykres jak zmienia się stan kasy w każdym kroku gry."
   ]
  },
  {
   "cell_type": "markdown",
   "metadata": {},
   "source": [
    "# Paper-Rock-Scissors - Computer vs Human"
   ]
  },
  {
   "cell_type": "code",
   "execution_count": null,
   "metadata": {
    "scrolled": false
   },
   "outputs": [],
   "source": [
    "import numpy\n",
    "import matplotlib.pyplot as plt\n",
    "\n",
    "options = ['P', 'R', 'S']\n",
    "playerChoices = [[1, 1, 1], [1, 1, 1], [1, 1, 1]]\n",
    "probability = [1, 1, 1]\n",
    "lastPlayerChoice = numpy.random.choice(options, p = [1/3, 1/3, 1/3])\n",
    "playerChoice = ''\n",
    "\n",
    "scoreHistory = []\n",
    "score = 0\n",
    "scoreHistory.append(score)\n",
    "print('Your initial score: ' + str(score))\n",
    "\n",
    "# game loop\n",
    "while(playerChoice != 'exit'):\n",
    "    #for prob in playerChoices:\n",
    "        #print(prob)\n",
    "    \n",
    "    choiceRow = options.index(lastPlayerChoice)\n",
    "    sumOfGivenChoices = sum(playerChoices[choiceRow])\n",
    "    \n",
    "    for x in range(len(probability)):\n",
    "        probability[x] = playerChoices[choiceRow][x] / sumOfGivenChoices\n",
    "\n",
    "    #print(probability)\n",
    "\n",
    "    playerPredictedChoice = numpy.random.choice(options, p = probability)\n",
    "    #print('playerPredictedChoice = ' + playerPredictedChoice)\n",
    "\n",
    "    computerChoice = ''\n",
    "\n",
    "    if playerPredictedChoice == 'S':\n",
    "        computerChoice = 'R'\n",
    "    elif playerPredictedChoice == 'R':\n",
    "        computerChoice = 'P'\n",
    "    else:\n",
    "        computerChoice = 'S'\n",
    "\n",
    "    playerChoice = ''\n",
    "    while(playerChoice != options[0] and playerChoice != options[1] and playerChoice != options[2] and playerChoice != 'exit'):\n",
    "        playerChoice = input('Your next choice [P(aper)/R(ock)/S(cissors)]: ')\n",
    "    \n",
    "    if playerChoice == 'exit':\n",
    "        print('Your final score: ' + str(score))\n",
    "        print('Thanks for playing :)')\n",
    "    else:\n",
    "        playerChoices[options.index(lastPlayerChoice)][options.index(playerChoice)] += 1\n",
    "        lastPlayerChoice = playerChoice\n",
    "        \n",
    "        print('Computer\\'s choice = ' + computerChoice)\n",
    "\n",
    "        if playerChoice == computerChoice:\n",
    "            print('Draw!')\n",
    "        else:\n",
    "            if  playerChoice == 'S' and computerChoice == 'R' or \\\n",
    "                playerChoice == 'R' and computerChoice == 'P' or \\\n",
    "                playerChoice == 'P' and computerChoice == 'S':\n",
    "                    print('Computer\\'s win')\n",
    "                    score -= 1\n",
    "            else:\n",
    "                print('Player\\'s win')\n",
    "                score += 1\n",
    "\n",
    "        print('Your current score: ' + str(score))\n",
    "        print()\n",
    "        \n",
    "        scoreHistory.append(score)\n",
    "        plt.plot(scoreHistory)\n",
    "        plt.xlabel('time / game rounds')\n",
    "        plt.ylabel('player\\'s score')\n",
    "        plt.show()"
   ]
  },
  {
   "cell_type": "code",
   "execution_count": null,
   "metadata": {},
   "outputs": [],
   "source": []
  }
 ],
 "metadata": {
  "colab": {
   "collapsed_sections": [],
   "name": "PaperRockScissors.ipynb",
   "provenance": [
    {
     "file_id": "1SGX-7ukw_ckvJwvouoe7uycBHGD_UGbL",
     "timestamp": 1637523169635
    }
   ]
  },
  "kernelspec": {
   "display_name": "Python 3",
   "language": "python",
   "name": "python3"
  },
  "language_info": {
   "codemirror_mode": {
    "name": "ipython",
    "version": 3
   },
   "file_extension": ".py",
   "mimetype": "text/x-python",
   "name": "python",
   "nbconvert_exporter": "python",
   "pygments_lexer": "ipython3",
   "version": "3.8.8"
  }
 },
 "nbformat": 4,
 "nbformat_minor": 1
}
