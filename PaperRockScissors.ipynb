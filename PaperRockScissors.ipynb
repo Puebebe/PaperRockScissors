{
 "cells": [
  {
   "cell_type": "markdown",
   "metadata": {
    "id": "D9OjkmUsObVU"
   },
   "source": [
    "# Wymagania do projektu Papier-Kamień-Nożyce\n",
    "## 1. Napisz program, uczący się gry “papier, kamień, nożyce”. Jako algorytm uczący zastosuj łańcuch Markowa z macierzą przejść pomiędzy trzema stanami (Papier, Kamień, Nożyce). Nauka gry polega na korekcie macierzy przejść (prawdopodobieństwa warunkowe zmiany stanu),\n",
    "## 2. Wartość wypłaty: 1 w przypadku wygranej, −1 w przypadku przegranej i 0 w przypadku remisu,\n",
    "## 3. Przeprowadź ciąg kilkudziesięciu gier “kamień, papier, nożyce”. Sporząź wykres jak zmienia się stan kasy w każdym kroku gry."
   ]
  },
  {
   "cell_type": "markdown",
   "metadata": {},
   "source": [
    "# Paper-Rock-Scissors - Computer vs Human"
   ]
  },
  {
   "cell_type": "code",
   "execution_count": 1,
   "metadata": {},
   "outputs": [
    {
     "name": "stdout",
     "output_type": "stream",
     "text": [
      "Say hello: Hello world!\n",
      "Hello world!\n"
     ]
    }
   ],
   "source": [
    "text = input(\"Say hello: \")\n",
    "print(text)"
   ]
  }
 ],
 "metadata": {
  "colab": {
   "collapsed_sections": [],
   "name": "PaperRockScissors.ipynb",
   "provenance": [
    {
     "file_id": "1SGX-7ukw_ckvJwvouoe7uycBHGD_UGbL",
     "timestamp": 1637523169635
    }
   ]
  },
  "kernelspec": {
   "display_name": "Python 3",
   "language": "python",
   "name": "python3"
  },
  "language_info": {
   "codemirror_mode": {
    "name": "ipython",
    "version": 3
   },
   "file_extension": ".py",
   "mimetype": "text/x-python",
   "name": "python",
   "nbconvert_exporter": "python",
   "pygments_lexer": "ipython3",
   "version": "3.8.8"
  }
 },
 "nbformat": 4,
 "nbformat_minor": 1
}
