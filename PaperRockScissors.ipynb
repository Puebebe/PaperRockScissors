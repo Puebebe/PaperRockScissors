{
 "cells": [
  {
   "cell_type": "markdown",
   "metadata": {
    "id": "D9OjkmUsObVU"
   },
   "source": [
    "# Wymagania do projektu Papier-Kamień-Nożyce\n",
    "## 1. Napisz program, uczący się gry “papier, kamień, nożyce”. Jako algorytm uczący zastosuj łańcuch Markowa z macierzą przejść pomiędzy trzema stanami (Papier, Kamień, Nożyce). Nauka gry polega na korekcie macierzy przejść (prawdopodobieństwa warunkowe zmiany stanu),\n",
    "## 2. Wartość wypłaty: 1 w przypadku wygranej, −1 w przypadku przegranej i 0 w przypadku remisu,\n",
    "## 3. Przeprowadź ciąg kilkudziesięciu gier “kamień, papier, nożyce”. Sporząź wykres jak zmienia się stan kasy w każdym kroku gry."
   ]
  },
  {
   "cell_type": "markdown",
   "metadata": {},
   "source": [
    "# Paper-Rock-Scissors - Computer vs Human"
   ]
  },
  {
   "cell_type": "code",
   "execution_count": 96,
   "metadata": {
    "scrolled": false
   },
   "outputs": [
    {
     "name": "stdout",
     "output_type": "stream",
     "text": [
      "Your current score: 0\n",
      "[1, 1, 1]\n",
      "[1, 1, 1]\n",
      "[1, 1, 1]\n",
      "[0.3333333333333333, 0.3333333333333333, 0.3333333333333333]\n",
      "playerPredictedChoice = R\n",
      "Your next choice [P(aper)/R(ock)/S(cissors)]: P\n",
      "computerChoice = P\n",
      "Draw!\n",
      "Your current score: 0\n",
      "\n",
      "[1, 1, 1]\n",
      "[2, 1, 1]\n",
      "[1, 1, 1]\n",
      "[0.3333333333333333, 0.3333333333333333, 0.3333333333333333]\n",
      "playerPredictedChoice = P\n",
      "Your next choice [P(aper)/R(ock)/S(cissors)]: P\n",
      "computerChoice = S\n",
      "Computer's win\n",
      "Your current score: -1\n",
      "\n",
      "[2, 1, 1]\n",
      "[2, 1, 1]\n",
      "[1, 1, 1]\n",
      "[0.5, 0.25, 0.25]\n",
      "playerPredictedChoice = R\n",
      "Your next choice [P(aper)/R(ock)/S(cissors)]: P\n",
      "computerChoice = P\n",
      "Draw!\n",
      "Your current score: -1\n",
      "\n",
      "[3, 1, 1]\n",
      "[2, 1, 1]\n",
      "[1, 1, 1]\n",
      "[0.6, 0.2, 0.2]\n",
      "playerPredictedChoice = P\n",
      "Your next choice [P(aper)/R(ock)/S(cissors)]: R\n",
      "computerChoice = S\n",
      "Player's win\n",
      "Your current score: 0\n",
      "\n",
      "[3, 2, 1]\n",
      "[2, 1, 1]\n",
      "[1, 1, 1]\n",
      "[0.5, 0.25, 0.25]\n",
      "playerPredictedChoice = R\n",
      "Your next choice [P(aper)/R(ock)/S(cissors)]: S\n",
      "computerChoice = P\n",
      "Player's win\n",
      "Your current score: 1\n",
      "\n",
      "[3, 2, 1]\n",
      "[2, 1, 2]\n",
      "[1, 1, 1]\n",
      "[0.3333333333333333, 0.3333333333333333, 0.3333333333333333]\n",
      "playerPredictedChoice = R\n",
      "Your next choice [P(aper)/R(ock)/S(cissors)]: exit\n",
      "Your final score: 1\n",
      "Thanks for playing :)\n"
     ]
    }
   ],
   "source": [
    "import numpy\n",
    "\n",
    "score = 0\n",
    "print('Your current score: ' + str(score))\n",
    "\n",
    "options = ['P', 'R', 'S']\n",
    "playerChoices = [[1, 1, 1], [1, 1, 1], [1, 1, 1]]\n",
    "probability = [1, 1, 1]\n",
    "lastPlayerChoice = numpy.random.choice(options, p = [1/3, 1/3, 1/3])\n",
    "\n",
    "# game loop\n",
    "while(playerChoice != 'exit'):\n",
    "    for prob in playerChoices:\n",
    "        print(prob)\n",
    "    \n",
    "    choiceRow = options.index(lastPlayerChoice)\n",
    "    sumOfGivenChoices = sum(playerChoices[choiceRow])\n",
    "    \n",
    "    for x in range(len(probability)):\n",
    "        probability[x] = playerChoices[choiceRow][x] / sumOfGivenChoices\n",
    "\n",
    "    print(probability)\n",
    "\n",
    "    playerPredictedChoice = numpy.random.choice(options, p = probability)\n",
    "    print('playerPredictedChoice = ' + playerPredictedChoice)\n",
    "\n",
    "    computerChoice = ''\n",
    "\n",
    "    if playerPredictedChoice == 'S':\n",
    "        computerChoice = 'R'\n",
    "    elif playerPredictedChoice == 'R':\n",
    "        computerChoice = 'P'\n",
    "    else:\n",
    "        computerChoice = 'S'\n",
    "\n",
    "    playerChoice = ''\n",
    "    while(playerChoice != options[0] and playerChoice != options[1] and playerChoice != options[2] and playerChoice != 'exit'):\n",
    "        playerChoice = input('Your next choice [P(aper)/R(ock)/S(cissors)]: ')\n",
    "    \n",
    "    if playerChoice == 'exit':\n",
    "        print('Your final score: ' + str(score))\n",
    "        print('Thanks for playing :)')\n",
    "    else:\n",
    "        playerChoices[options.index(lastPlayerChoice)][options.index(playerChoice)] += 1\n",
    "        lastPlayerChoice = playerChoice\n",
    "        \n",
    "        print('computerChoice = ' + computerChoice)\n",
    "\n",
    "        if playerChoice == computerChoice:\n",
    "            print('Draw!')\n",
    "        else:\n",
    "            if  playerChoice == 'S' and computerChoice == 'R' or \\\n",
    "                playerChoice == 'R' and computerChoice == 'P' or \\\n",
    "                playerChoice == 'P' and computerChoice == 'S':\n",
    "                    print('Computer\\'s win')\n",
    "                    score -= 1\n",
    "            else:\n",
    "                print('Player\\'s win')\n",
    "                score += 1\n",
    "\n",
    "        print('Your current score: ' + str(score))\n",
    "        print()"
   ]
  }
 ],
 "metadata": {
  "colab": {
   "collapsed_sections": [],
   "name": "PaperRockScissors.ipynb",
   "provenance": [
    {
     "file_id": "1SGX-7ukw_ckvJwvouoe7uycBHGD_UGbL",
     "timestamp": 1637523169635
    }
   ]
  },
  "kernelspec": {
   "display_name": "Python 3",
   "language": "python",
   "name": "python3"
  },
  "language_info": {
   "codemirror_mode": {
    "name": "ipython",
    "version": 3
   },
   "file_extension": ".py",
   "mimetype": "text/x-python",
   "name": "python",
   "nbconvert_exporter": "python",
   "pygments_lexer": "ipython3",
   "version": "3.8.8"
  }
 },
 "nbformat": 4,
 "nbformat_minor": 1
}
